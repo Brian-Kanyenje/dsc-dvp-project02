{
 "cells": [
  {
   "cell_type": "markdown",
   "metadata": {},
   "source": [
    "# DALBERG DATA INSIGHTS"
   ]
  },
  {
   "cell_type": "markdown",
   "metadata": {},
   "source": [
    "Karamoja is the most food-insecure region of Uganda, primarily due to low crop productivity which is exacerbated by intense droughts, pest infestations and disease outbreaks. These challenges significantly impact crop production in area particularly for the region's stable foods; maize and sorghum.\n",
    "Several NGOs operate in Karamoja providing technical support as well as farm inputs to farmers being faced by extremely low crop yields. However, these NGOs lack a clear perspective of the region and often rely on local sources to plan their interventions effectively. This gap in data makes it difficult for the NGOs to identify regions that require their support. Because of this, Dalberg Data Insights (DDI) have been engaged in order to develop a new food security monitoring tool that the NGOs will use to make informed decisions. This has been made possible by the use of satellite imagery to measure crop yields for sorghum and maize.\n",
    "The Insight derived will be used by the NGOs to make informed decisions on which regions require more help and support in order to curb the food insecurity crisis in these areas.\n"
   ]
  },
  {
   "cell_type": "markdown",
   "metadata": {},
   "source": [
    "### Research Objectives\n",
    "\n",
    "* To determine the Districts with the lowest crop production.\n",
    "* To analyze the yield efficiency of sorghum vs maize across different districts.\n",
    "* To determine the Districts that have large crop areas but low yield efficiency.\n",
    "* To compare total crop production with the population to estimate food security risk.\n",
    "\n",
    "\n",
    "### Research Questions\n",
    "\n",
    "* Which districts have the lowest crop production?\n",
    "* What are the yield efficiencies of sorghum vs maize across different districts?\n",
    "* Which districts have large crop areas but low yield efficiency?\n",
    "* Which districts have food security risk when comparing total production with the population?\n",
    "\n",
    "To access my **Presentation ([Click here](https://docs.google.com/presentation/d/1i4j1Yt0YqSS1hGdBKDUrxTbWW_97ruRWyhI0Hb0r_Sk/edit?usp=sharing))**\n",
    "\n",
    "To access my **Tableau Dashboard ([Click here](https://public.tableau.com/app/profile/brian.arthur1141/viz/DalbergDataInsights/Dashboard1))**"
   ]
  },
  {
   "cell_type": "markdown",
   "metadata": {},
   "source": [
    "### Loading Dataset 1"
   ]
  },
  {
   "cell_type": "markdown",
   "metadata": {},
   "source": [
    "There are two tables provided for us. The tables are in form of a CSV File (Comma Separated Values). We can import them into a dataframe using pandas:"
   ]
  },
  {
   "cell_type": "code",
   "execution_count": 1,
   "metadata": {},
   "outputs": [],
   "source": [
    "# Import pandas and csv for importing the data into a dataframe\n",
    "import pandas as pd\n",
    "import csv\n",
    "\n",
    "# Let's name the dataframe as df. index_col=0 will set the first column as the index column to avoid creating another extra\n",
    "# index column\n",
    "df = pd.read_csv('DATA/TABLES/Uganda_Karamoja_District_Crop_Yield_Population.csv', index_col=0)"
   ]
  },
  {
   "cell_type": "code",
   "execution_count": 2,
   "metadata": {},
   "outputs": [
    {
     "data": {
      "text/plain": [
       "(7, 10)"
      ]
     },
     "execution_count": 2,
     "metadata": {},
     "output_type": "execute_result"
    }
   ],
   "source": [
    "# Preview the shape of the DataFrame\n",
    "df.shape"
   ]
  },
  {
   "cell_type": "markdown",
   "metadata": {},
   "source": [
    "Let's inspect the contents of the dataframe:"
   ]
  },
  {
   "cell_type": "code",
   "execution_count": 3,
   "metadata": {},
   "outputs": [
    {
     "data": {
      "text/html": [
       "<div>\n",
       "<style scoped>\n",
       "    .dataframe tbody tr th:only-of-type {\n",
       "        vertical-align: middle;\n",
       "    }\n",
       "\n",
       "    .dataframe tbody tr th {\n",
       "        vertical-align: top;\n",
       "    }\n",
       "\n",
       "    .dataframe thead th {\n",
       "        text-align: right;\n",
       "    }\n",
       "</style>\n",
       "<table border=\"1\" class=\"dataframe\">\n",
       "  <thead>\n",
       "    <tr style=\"text-align: right;\">\n",
       "      <th></th>\n",
       "      <th>NAME</th>\n",
       "      <th>POP</th>\n",
       "      <th>Area</th>\n",
       "      <th>S_Yield_Ha</th>\n",
       "      <th>M_Yield_Ha</th>\n",
       "      <th>Crop_Area_Ha</th>\n",
       "      <th>S_Area_Ha</th>\n",
       "      <th>M_Area_Ha</th>\n",
       "      <th>S_Prod_Tot</th>\n",
       "      <th>M_Prod_Tot</th>\n",
       "    </tr>\n",
       "    <tr>\n",
       "      <th>OBJECTID</th>\n",
       "      <th></th>\n",
       "      <th></th>\n",
       "      <th></th>\n",
       "      <th></th>\n",
       "      <th></th>\n",
       "      <th></th>\n",
       "      <th></th>\n",
       "      <th></th>\n",
       "      <th></th>\n",
       "      <th></th>\n",
       "    </tr>\n",
       "  </thead>\n",
       "  <tbody>\n",
       "    <tr>\n",
       "      <th>92</th>\n",
       "      <td>ABIM</td>\n",
       "      <td>90385</td>\n",
       "      <td>2771977106</td>\n",
       "      <td>449</td>\n",
       "      <td>1040</td>\n",
       "      <td>5470.068394</td>\n",
       "      <td>3277.295971</td>\n",
       "      <td>1848.621855</td>\n",
       "      <td>1471506</td>\n",
       "      <td>1922567</td>\n",
       "    </tr>\n",
       "    <tr>\n",
       "      <th>96</th>\n",
       "      <td>AMUDAT</td>\n",
       "      <td>101790</td>\n",
       "      <td>1643582836</td>\n",
       "      <td>205</td>\n",
       "      <td>1297</td>\n",
       "      <td>5765.443719</td>\n",
       "      <td>2973.423860</td>\n",
       "      <td>2733.661014</td>\n",
       "      <td>609552</td>\n",
       "      <td>3545558</td>\n",
       "    </tr>\n",
       "    <tr>\n",
       "      <th>20</th>\n",
       "      <td>KAABONG</td>\n",
       "      <td>627057</td>\n",
       "      <td>7373606003</td>\n",
       "      <td>279</td>\n",
       "      <td>945</td>\n",
       "      <td>28121.672530</td>\n",
       "      <td>20544.194960</td>\n",
       "      <td>7394.416334</td>\n",
       "      <td>5731830</td>\n",
       "      <td>6987723</td>\n",
       "    </tr>\n",
       "    <tr>\n",
       "      <th>85</th>\n",
       "      <td>KOTIDO</td>\n",
       "      <td>243157</td>\n",
       "      <td>3641539808</td>\n",
       "      <td>331</td>\n",
       "      <td>1148</td>\n",
       "      <td>53032.649450</td>\n",
       "      <td>50247.443900</td>\n",
       "      <td>1751.372284</td>\n",
       "      <td>16631904</td>\n",
       "      <td>2010575</td>\n",
       "    </tr>\n",
       "    <tr>\n",
       "      <th>5</th>\n",
       "      <td>MOROTO</td>\n",
       "      <td>127811</td>\n",
       "      <td>3570160948</td>\n",
       "      <td>128</td>\n",
       "      <td>355</td>\n",
       "      <td>5954.814048</td>\n",
       "      <td>4741.748776</td>\n",
       "      <td>1190.050606</td>\n",
       "      <td>606944</td>\n",
       "      <td>422468</td>\n",
       "    </tr>\n",
       "    <tr>\n",
       "      <th>54</th>\n",
       "      <td>NAKAPIRIPIRIT</td>\n",
       "      <td>146780</td>\n",
       "      <td>4216323900</td>\n",
       "      <td>356</td>\n",
       "      <td>1264</td>\n",
       "      <td>26372.698490</td>\n",
       "      <td>19237.333210</td>\n",
       "      <td>6425.788414</td>\n",
       "      <td>6848491</td>\n",
       "      <td>8122197</td>\n",
       "    </tr>\n",
       "    <tr>\n",
       "      <th>80</th>\n",
       "      <td>NAPAK</td>\n",
       "      <td>167625</td>\n",
       "      <td>4508782023</td>\n",
       "      <td>137</td>\n",
       "      <td>854</td>\n",
       "      <td>22944.296020</td>\n",
       "      <td>16142.015880</td>\n",
       "      <td>6543.719066</td>\n",
       "      <td>2211456</td>\n",
       "      <td>5588336</td>\n",
       "    </tr>\n",
       "  </tbody>\n",
       "</table>\n",
       "</div>"
      ],
      "text/plain": [
       "                   NAME     POP        Area  S_Yield_Ha  M_Yield_Ha  \\\n",
       "OBJECTID                                                              \n",
       "92                 ABIM   90385  2771977106         449        1040   \n",
       "96               AMUDAT  101790  1643582836         205        1297   \n",
       "20              KAABONG  627057  7373606003         279         945   \n",
       "85               KOTIDO  243157  3641539808         331        1148   \n",
       "5                MOROTO  127811  3570160948         128         355   \n",
       "54        NAKAPIRIPIRIT  146780  4216323900         356        1264   \n",
       "80                NAPAK  167625  4508782023         137         854   \n",
       "\n",
       "          Crop_Area_Ha     S_Area_Ha    M_Area_Ha  S_Prod_Tot  M_Prod_Tot  \n",
       "OBJECTID                                                                   \n",
       "92         5470.068394   3277.295971  1848.621855     1471506     1922567  \n",
       "96         5765.443719   2973.423860  2733.661014      609552     3545558  \n",
       "20        28121.672530  20544.194960  7394.416334     5731830     6987723  \n",
       "85        53032.649450  50247.443900  1751.372284    16631904     2010575  \n",
       "5          5954.814048   4741.748776  1190.050606      606944      422468  \n",
       "54        26372.698490  19237.333210  6425.788414     6848491     8122197  \n",
       "80        22944.296020  16142.015880  6543.719066     2211456     5588336  "
      ]
     },
     "execution_count": 3,
     "metadata": {},
     "output_type": "execute_result"
    }
   ],
   "source": [
    "# Preview the DataFrame\n",
    "df"
   ]
  },
  {
   "cell_type": "markdown",
   "metadata": {},
   "source": [
    "Next, check summary statistics of the dataset using `.describe()` method:"
   ]
  },
  {
   "cell_type": "code",
   "execution_count": 4,
   "metadata": {
    "scrolled": true
   },
   "outputs": [
    {
     "data": {
      "text/html": [
       "<div>\n",
       "<style scoped>\n",
       "    .dataframe tbody tr th:only-of-type {\n",
       "        vertical-align: middle;\n",
       "    }\n",
       "\n",
       "    .dataframe tbody tr th {\n",
       "        vertical-align: top;\n",
       "    }\n",
       "\n",
       "    .dataframe thead th {\n",
       "        text-align: right;\n",
       "    }\n",
       "</style>\n",
       "<table border=\"1\" class=\"dataframe\">\n",
       "  <thead>\n",
       "    <tr style=\"text-align: right;\">\n",
       "      <th></th>\n",
       "      <th>POP</th>\n",
       "      <th>Area</th>\n",
       "      <th>S_Yield_Ha</th>\n",
       "      <th>M_Yield_Ha</th>\n",
       "      <th>Crop_Area_Ha</th>\n",
       "      <th>S_Area_Ha</th>\n",
       "      <th>M_Area_Ha</th>\n",
       "      <th>S_Prod_Tot</th>\n",
       "      <th>M_Prod_Tot</th>\n",
       "    </tr>\n",
       "  </thead>\n",
       "  <tbody>\n",
       "    <tr>\n",
       "      <th>count</th>\n",
       "      <td>7.000000</td>\n",
       "      <td>7.000000e+00</td>\n",
       "      <td>7.000000</td>\n",
       "      <td>7.000000</td>\n",
       "      <td>7.000000</td>\n",
       "      <td>7.000000</td>\n",
       "      <td>7.000000</td>\n",
       "      <td>7.000000e+00</td>\n",
       "      <td>7.000000e+00</td>\n",
       "    </tr>\n",
       "    <tr>\n",
       "      <th>mean</th>\n",
       "      <td>214943.571429</td>\n",
       "      <td>3.960853e+09</td>\n",
       "      <td>269.285714</td>\n",
       "      <td>986.142857</td>\n",
       "      <td>21094.520379</td>\n",
       "      <td>16737.636651</td>\n",
       "      <td>3983.947082</td>\n",
       "      <td>4.873098e+06</td>\n",
       "      <td>4.085632e+06</td>\n",
       "    </tr>\n",
       "    <tr>\n",
       "      <th>std</th>\n",
       "      <td>188604.280916</td>\n",
       "      <td>1.781860e+09</td>\n",
       "      <td>119.243049</td>\n",
       "      <td>321.566700</td>\n",
       "      <td>17363.854165</td>\n",
       "      <td>16625.963460</td>\n",
       "      <td>2678.911441</td>\n",
       "      <td>5.743724e+06</td>\n",
       "      <td>2.877188e+06</td>\n",
       "    </tr>\n",
       "    <tr>\n",
       "      <th>min</th>\n",
       "      <td>90385.000000</td>\n",
       "      <td>1.643583e+09</td>\n",
       "      <td>128.000000</td>\n",
       "      <td>355.000000</td>\n",
       "      <td>5470.068394</td>\n",
       "      <td>2973.423860</td>\n",
       "      <td>1190.050606</td>\n",
       "      <td>6.069440e+05</td>\n",
       "      <td>4.224680e+05</td>\n",
       "    </tr>\n",
       "    <tr>\n",
       "      <th>25%</th>\n",
       "      <td>114800.500000</td>\n",
       "      <td>3.171069e+09</td>\n",
       "      <td>171.000000</td>\n",
       "      <td>899.500000</td>\n",
       "      <td>5860.128883</td>\n",
       "      <td>4009.522373</td>\n",
       "      <td>1799.997070</td>\n",
       "      <td>1.040529e+06</td>\n",
       "      <td>1.966571e+06</td>\n",
       "    </tr>\n",
       "    <tr>\n",
       "      <th>50%</th>\n",
       "      <td>146780.000000</td>\n",
       "      <td>3.641540e+09</td>\n",
       "      <td>279.000000</td>\n",
       "      <td>1040.000000</td>\n",
       "      <td>22944.296020</td>\n",
       "      <td>16142.015880</td>\n",
       "      <td>2733.661014</td>\n",
       "      <td>2.211456e+06</td>\n",
       "      <td>3.545558e+06</td>\n",
       "    </tr>\n",
       "    <tr>\n",
       "      <th>75%</th>\n",
       "      <td>205391.000000</td>\n",
       "      <td>4.362553e+09</td>\n",
       "      <td>343.500000</td>\n",
       "      <td>1206.000000</td>\n",
       "      <td>27247.185510</td>\n",
       "      <td>19890.764085</td>\n",
       "      <td>6484.753740</td>\n",
       "      <td>6.290160e+06</td>\n",
       "      <td>6.288030e+06</td>\n",
       "    </tr>\n",
       "    <tr>\n",
       "      <th>max</th>\n",
       "      <td>627057.000000</td>\n",
       "      <td>7.373606e+09</td>\n",
       "      <td>449.000000</td>\n",
       "      <td>1297.000000</td>\n",
       "      <td>53032.649450</td>\n",
       "      <td>50247.443900</td>\n",
       "      <td>7394.416334</td>\n",
       "      <td>1.663190e+07</td>\n",
       "      <td>8.122197e+06</td>\n",
       "    </tr>\n",
       "  </tbody>\n",
       "</table>\n",
       "</div>"
      ],
      "text/plain": [
       "                 POP          Area  S_Yield_Ha   M_Yield_Ha  Crop_Area_Ha  \\\n",
       "count       7.000000  7.000000e+00    7.000000     7.000000      7.000000   \n",
       "mean   214943.571429  3.960853e+09  269.285714   986.142857  21094.520379   \n",
       "std    188604.280916  1.781860e+09  119.243049   321.566700  17363.854165   \n",
       "min     90385.000000  1.643583e+09  128.000000   355.000000   5470.068394   \n",
       "25%    114800.500000  3.171069e+09  171.000000   899.500000   5860.128883   \n",
       "50%    146780.000000  3.641540e+09  279.000000  1040.000000  22944.296020   \n",
       "75%    205391.000000  4.362553e+09  343.500000  1206.000000  27247.185510   \n",
       "max    627057.000000  7.373606e+09  449.000000  1297.000000  53032.649450   \n",
       "\n",
       "          S_Area_Ha    M_Area_Ha    S_Prod_Tot    M_Prod_Tot  \n",
       "count      7.000000     7.000000  7.000000e+00  7.000000e+00  \n",
       "mean   16737.636651  3983.947082  4.873098e+06  4.085632e+06  \n",
       "std    16625.963460  2678.911441  5.743724e+06  2.877188e+06  \n",
       "min     2973.423860  1190.050606  6.069440e+05  4.224680e+05  \n",
       "25%     4009.522373  1799.997070  1.040529e+06  1.966571e+06  \n",
       "50%    16142.015880  2733.661014  2.211456e+06  3.545558e+06  \n",
       "75%    19890.764085  6484.753740  6.290160e+06  6.288030e+06  \n",
       "max    50247.443900  7394.416334  1.663190e+07  8.122197e+06  "
      ]
     },
     "execution_count": 4,
     "metadata": {},
     "output_type": "execute_result"
    }
   ],
   "source": [
    "df.describe()"
   ]
  },
  {
   "cell_type": "markdown",
   "metadata": {},
   "source": [
    "### Data Preparation of Dataset 1\n",
    "\n",
    "This is an important step in data analysis as this is where data is cleaned to ensure the dataset is accurate, complete  and reliable.\n",
    "\n",
    "The first step of the data cleaning will be handling missing data. We can check for any missing data using the `.isna()` method:"
   ]
  },
  {
   "cell_type": "code",
   "execution_count": 5,
   "metadata": {},
   "outputs": [
    {
     "data": {
      "text/plain": [
       "NAME            0\n",
       "POP             0\n",
       "Area            0\n",
       "S_Yield_Ha      0\n",
       "M_Yield_Ha      0\n",
       "Crop_Area_Ha    0\n",
       "S_Area_Ha       0\n",
       "M_Area_Ha       0\n",
       "S_Prod_Tot      0\n",
       "M_Prod_Tot      0\n",
       "dtype: int64"
      ]
     },
     "execution_count": 5,
     "metadata": {},
     "output_type": "execute_result"
    }
   ],
   "source": [
    "# Let's check for any missing values in the data\n",
    "df.isna().sum()"
   ]
  },
  {
   "cell_type": "markdown",
   "metadata": {},
   "source": [
    "From the above code it is evident that there are no missing values in the dataframe. Next let's check for any duplicated values in the dataframe using `.duplicated()` method:"
   ]
  },
  {
   "cell_type": "code",
   "execution_count": 6,
   "metadata": {},
   "outputs": [
    {
     "data": {
      "text/plain": [
       "0"
      ]
     },
     "execution_count": 6,
     "metadata": {},
     "output_type": "execute_result"
    }
   ],
   "source": [
    "# Check for any duplicated values in the dataframe\n",
    "df.duplicated().sum()"
   ]
  },
  {
   "cell_type": "markdown",
   "metadata": {},
   "source": [
    "There are no duplicated values in the dataframe. The next step is converting the dataframe into ax excel file for easier importing into Tableau for visualization. This can be done using `.to_excel()` method:"
   ]
  },
  {
   "cell_type": "code",
   "execution_count": 7,
   "metadata": {},
   "outputs": [],
   "source": [
    "# Save the DataFrame to an Excel file named Karamoja District\n",
    "df.to_excel('DATA/TABLES/Karamoja District.xlsx')"
   ]
  },
  {
   "cell_type": "markdown",
   "metadata": {},
   "source": [
    "### Loading Dataset 2"
   ]
  },
  {
   "cell_type": "code",
   "execution_count": 8,
   "metadata": {},
   "outputs": [],
   "source": [
    "# Let's name the dataframe as df1 then set the first column as the index column\n",
    "df1 = pd.read_csv('DATA/TABLES/Uganda_Karamoja_Subcounty_Crop_Yield_Population.csv', index_col = 0)"
   ]
  },
  {
   "cell_type": "code",
   "execution_count": 9,
   "metadata": {},
   "outputs": [
    {
     "data": {
      "text/plain": [
       "(52, 12)"
      ]
     },
     "execution_count": 9,
     "metadata": {},
     "output_type": "execute_result"
    }
   ],
   "source": [
    "# Let's view the sape of the dataframe\n",
    "df1.shape"
   ]
  },
  {
   "cell_type": "markdown",
   "metadata": {},
   "source": [
    "Next, let's preview the first five rows of the dataframe in order to get an idea of the dataset:"
   ]
  },
  {
   "cell_type": "code",
   "execution_count": 10,
   "metadata": {},
   "outputs": [
    {
     "data": {
      "text/html": [
       "<div>\n",
       "<style scoped>\n",
       "    .dataframe tbody tr th:only-of-type {\n",
       "        vertical-align: middle;\n",
       "    }\n",
       "\n",
       "    .dataframe tbody tr th {\n",
       "        vertical-align: top;\n",
       "    }\n",
       "\n",
       "    .dataframe thead th {\n",
       "        text-align: right;\n",
       "    }\n",
       "</style>\n",
       "<table border=\"1\" class=\"dataframe\">\n",
       "  <thead>\n",
       "    <tr style=\"text-align: right;\">\n",
       "      <th></th>\n",
       "      <th>NAME</th>\n",
       "      <th>POP</th>\n",
       "      <th>Area</th>\n",
       "      <th>S_Yield_Ha</th>\n",
       "      <th>M_Yield_Ha</th>\n",
       "      <th>Crop_Area_Ha</th>\n",
       "      <th>S_Area_Ha</th>\n",
       "      <th>M_Area_Ha</th>\n",
       "      <th>S_Prod_Tot</th>\n",
       "      <th>M_Prod_Tot</th>\n",
       "    </tr>\n",
       "    <tr>\n",
       "      <th>OBJECTID</th>\n",
       "      <th></th>\n",
       "      <th></th>\n",
       "      <th></th>\n",
       "      <th></th>\n",
       "      <th></th>\n",
       "      <th></th>\n",
       "      <th></th>\n",
       "      <th></th>\n",
       "      <th></th>\n",
       "      <th></th>\n",
       "    </tr>\n",
       "  </thead>\n",
       "  <tbody>\n",
       "    <tr>\n",
       "      <th>92</th>\n",
       "      <td>ABIM</td>\n",
       "      <td>90385</td>\n",
       "      <td>2771977106</td>\n",
       "      <td>449</td>\n",
       "      <td>1040</td>\n",
       "      <td>5470.068394</td>\n",
       "      <td>3277.295971</td>\n",
       "      <td>1848.621855</td>\n",
       "      <td>1471506</td>\n",
       "      <td>1922567</td>\n",
       "    </tr>\n",
       "    <tr>\n",
       "      <th>96</th>\n",
       "      <td>AMUDAT</td>\n",
       "      <td>101790</td>\n",
       "      <td>1643582836</td>\n",
       "      <td>205</td>\n",
       "      <td>1297</td>\n",
       "      <td>5765.443719</td>\n",
       "      <td>2973.423860</td>\n",
       "      <td>2733.661014</td>\n",
       "      <td>609552</td>\n",
       "      <td>3545558</td>\n",
       "    </tr>\n",
       "    <tr>\n",
       "      <th>20</th>\n",
       "      <td>KAABONG</td>\n",
       "      <td>627057</td>\n",
       "      <td>7373606003</td>\n",
       "      <td>279</td>\n",
       "      <td>945</td>\n",
       "      <td>28121.672530</td>\n",
       "      <td>20544.194960</td>\n",
       "      <td>7394.416334</td>\n",
       "      <td>5731830</td>\n",
       "      <td>6987723</td>\n",
       "    </tr>\n",
       "    <tr>\n",
       "      <th>85</th>\n",
       "      <td>KOTIDO</td>\n",
       "      <td>243157</td>\n",
       "      <td>3641539808</td>\n",
       "      <td>331</td>\n",
       "      <td>1148</td>\n",
       "      <td>53032.649450</td>\n",
       "      <td>50247.443900</td>\n",
       "      <td>1751.372284</td>\n",
       "      <td>16631904</td>\n",
       "      <td>2010575</td>\n",
       "    </tr>\n",
       "    <tr>\n",
       "      <th>5</th>\n",
       "      <td>MOROTO</td>\n",
       "      <td>127811</td>\n",
       "      <td>3570160948</td>\n",
       "      <td>128</td>\n",
       "      <td>355</td>\n",
       "      <td>5954.814048</td>\n",
       "      <td>4741.748776</td>\n",
       "      <td>1190.050606</td>\n",
       "      <td>606944</td>\n",
       "      <td>422468</td>\n",
       "    </tr>\n",
       "  </tbody>\n",
       "</table>\n",
       "</div>"
      ],
      "text/plain": [
       "             NAME     POP        Area  S_Yield_Ha  M_Yield_Ha  Crop_Area_Ha  \\\n",
       "OBJECTID                                                                      \n",
       "92           ABIM   90385  2771977106         449        1040   5470.068394   \n",
       "96         AMUDAT  101790  1643582836         205        1297   5765.443719   \n",
       "20        KAABONG  627057  7373606003         279         945  28121.672530   \n",
       "85         KOTIDO  243157  3641539808         331        1148  53032.649450   \n",
       "5          MOROTO  127811  3570160948         128         355   5954.814048   \n",
       "\n",
       "             S_Area_Ha    M_Area_Ha  S_Prod_Tot  M_Prod_Tot  \n",
       "OBJECTID                                                     \n",
       "92         3277.295971  1848.621855     1471506     1922567  \n",
       "96         2973.423860  2733.661014      609552     3545558  \n",
       "20        20544.194960  7394.416334     5731830     6987723  \n",
       "85        50247.443900  1751.372284    16631904     2010575  \n",
       "5          4741.748776  1190.050606      606944      422468  "
      ]
     },
     "execution_count": 10,
     "metadata": {},
     "output_type": "execute_result"
    }
   ],
   "source": [
    "# Preview the first five rows of the dataframe\n",
    "df.head()"
   ]
  },
  {
   "cell_type": "markdown",
   "metadata": {},
   "source": [
    "###  Data Preparation of Dataset 2"
   ]
  },
  {
   "cell_type": "markdown",
   "metadata": {},
   "source": [
    "The first step is checking for any missing values in the dataset using `.isna()` method:"
   ]
  },
  {
   "cell_type": "code",
   "execution_count": 11,
   "metadata": {},
   "outputs": [
    {
     "data": {
      "text/plain": [
       "SUBCOUNTY_NAME    0\n",
       "DISTRICT_NAME     0\n",
       "POP               0\n",
       "Area              0\n",
       "Karamoja          0\n",
       "S_Yield_Ha        0\n",
       "M_Yield_Ha        0\n",
       "Crop_Area_Ha      0\n",
       "S_Area_Ha         0\n",
       "M_Area_Ha         0\n",
       "S_Prod_Tot        0\n",
       "M_Prod_Tot        0\n",
       "dtype: int64"
      ]
     },
     "execution_count": 11,
     "metadata": {},
     "output_type": "execute_result"
    }
   ],
   "source": [
    "# .sum() parameter returns the sum of missing data in the columns.\n",
    "df1.isna().sum()"
   ]
  },
  {
   "cell_type": "markdown",
   "metadata": {},
   "source": [
    "None of the columns have any missing values. Next, let's check for any duplicated values in the dataframe:"
   ]
  },
  {
   "cell_type": "code",
   "execution_count": 12,
   "metadata": {},
   "outputs": [
    {
     "data": {
      "text/plain": [
       "0"
      ]
     },
     "execution_count": 12,
     "metadata": {},
     "output_type": "execute_result"
    }
   ],
   "source": [
    "# Check for any duplicated values\n",
    "df1.duplicated().sum()"
   ]
  },
  {
   "cell_type": "markdown",
   "metadata": {},
   "source": [
    "From the code above it is evident that there are no duplicated values in the dataframe. Next let's convert the dataframe into an excel file:"
   ]
  },
  {
   "cell_type": "code",
   "execution_count": 13,
   "metadata": {},
   "outputs": [],
   "source": [
    "df1.to_excel('DATA/TABLES/Karamoja Subcounty.xlsx')"
   ]
  },
  {
   "cell_type": "markdown",
   "metadata": {},
   "source": [
    "## Data Visualization\n",
    "\n",
    "The data visualization has been done in Tableau."
   ]
  },
  {
   "cell_type": "markdown",
   "metadata": {},
   "source": [
    "## Findings\n",
    "\n",
    "**Objective 1: To determine the Districts with the lowest crop production.**\n",
    "\n",
    "Moroto District was found to have the lowest crop production overall while Nakapiripirit had the highest crop production.\n",
    "When focusing on the individual crops, Nakapiripirit District had the highest maize production while Moroto had the lowest maize production. Modito District has the highest sorghum production while Moroto District has the lowest sorghum production.\n",
    "\n",
    "**Objective 2: To analyze the yield efficiency of sorghum vs maize across different districts.**\n",
    "\n",
    "Moroto District once more had the lowest overall yield efficiency of both maize and sorghum while Amudat had the highest yield efficiency. In the maize production, Amudat District has the highest yield per hectare while Moroto has the lowest yield per hectare in both maize and sorghum production. Abim District has the highest yield per hectare in sorghum production.\n",
    "\n",
    "**Objective 3: To determine the Districts that have large crop areas but low yield efficiency.**\n",
    "\n",
    "Kodito District has a high crop area but relatively low crop yield with regard to the size of the crop area. This shows that the farming areas are not put o maximum use in order to produce yields relative to the size of the farming land.\n",
    "\n",
    "**Objective 4: To compare total crop production with the population to estimate food security risk.**\n",
    "\n",
    "Kabong District has a high population but the total crop production wasn’t as high and didn’t match the high population. This shows that the amount of crop production in the area is relatively lower than what is needed to cater for the whole population."
   ]
  },
  {
   "cell_type": "markdown",
   "metadata": {},
   "source": [
    "## Recommendations\n",
    "\n",
    "* The NGO should focus most of the support on  Morito District as it has both the lowest crop production and yield efficiency. \n",
    "* The NGO should aim to expand the farming areas in Kabong District or introduce modern, efficient farming techniques that will boost crop production and help cater for the huge population in the District.\n",
    "* The NGO should introduce other crops in the Karamoja Area that are more pest and famine resistant. This will increase the overall crop production in the area and help curb the food insecurity issue.\n"
   ]
  },
  {
   "cell_type": "markdown",
   "metadata": {},
   "source": [
    "## Further Work\n",
    "\n",
    "* I would analyze how the key variables change over time in order to establish any seasonal patterns affecting the crop production.\n",
    "* I would also compare the data available with external data such as climate and weather data, the distribution of pests in the region and soil variations\n",
    "* I would use geospatial data to compare between the land already being used for farming in order to find new areas for expansion of farming land.\n",
    "\n"
   ]
  }
 ],
 "metadata": {
  "kernelspec": {
   "display_name": "Python 3",
   "language": "python",
   "name": "python3"
  },
  "language_info": {
   "codemirror_mode": {
    "name": "ipython",
    "version": 3
   },
   "file_extension": ".py",
   "mimetype": "text/x-python",
   "name": "python",
   "nbconvert_exporter": "python",
   "pygments_lexer": "ipython3",
   "version": "3.8.5"
  }
 },
 "nbformat": 4,
 "nbformat_minor": 5
}
