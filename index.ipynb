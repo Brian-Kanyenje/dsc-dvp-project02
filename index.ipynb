{
 "cells": [
  {
   "cell_type": "markdown",
   "metadata": {},
   "source": [
    "# DALBERG DATA INSIGHTS"
   ]
  },
  {
   "cell_type": "markdown",
   "metadata": {},
   "source": [
    "Karamoja is the most food-insecure region of Uganda. One of the main reasons is the low productivity level of the crops due to intense droughts as well as pest and disease outbreaks."
   ]
  },
  {
   "cell_type": "markdown",
   "metadata": {},
   "source": [
    "Regarding the last bullet, \"open-ended\" means the student chooses the EDA that is performed. The student should have at least three types of data analysis (e.g., mean, standard deviation) and at least three types of graphs (e.g., historgram, bar graph). The student will explain why those variables were chosen for numerical or graphical analysis. Finally, the student will make note of any unusual values for any variable that is analyzed."
   ]
  },
  {
   "cell_type": "markdown",
   "metadata": {},
   "source": [
    "### Research Objectives\n",
    "\n",
    "* "
   ]
  },
  {
   "cell_type": "markdown",
   "metadata": {},
   "source": [
    "### Data"
   ]
  },
  {
   "cell_type": "markdown",
   "metadata": {},
   "source": [
    "There are two tables provided for us. The tables are in form of a CSV File (Comma Separated Values). We can import them into a dataframe using pandas:"
   ]
  },
  {
   "cell_type": "code",
   "execution_count": 49,
   "metadata": {},
   "outputs": [],
   "source": [
    "# Import pandas and csv for importing the data into a dataframe\n",
    "import pandas as pd\n",
    "import matplotlib.pyplot as plt\n",
    "%matplotlib inline\n",
    "import csv\n",
    "\n",
    "# Let's name the dataframe as df\n",
    "df = pd.read_csv('DATA/TABLES/Uganda_Karamoja_District_Crop_Yield_Population.csv', index_col=0)"
   ]
  },
  {
   "cell_type": "code",
   "execution_count": 36,
   "metadata": {},
   "outputs": [
    {
     "data": {
      "text/plain": [
       "(7, 10)"
      ]
     },
     "execution_count": 36,
     "metadata": {},
     "output_type": "execute_result"
    }
   ],
   "source": [
    "# Preview the shape of the DataFrame\n",
    "df.shape"
   ]
  },
  {
   "cell_type": "code",
   "execution_count": 37,
   "metadata": {},
   "outputs": [
    {
     "data": {
      "text/html": [
       "<div>\n",
       "<style scoped>\n",
       "    .dataframe tbody tr th:only-of-type {\n",
       "        vertical-align: middle;\n",
       "    }\n",
       "\n",
       "    .dataframe tbody tr th {\n",
       "        vertical-align: top;\n",
       "    }\n",
       "\n",
       "    .dataframe thead th {\n",
       "        text-align: right;\n",
       "    }\n",
       "</style>\n",
       "<table border=\"1\" class=\"dataframe\">\n",
       "  <thead>\n",
       "    <tr style=\"text-align: right;\">\n",
       "      <th></th>\n",
       "      <th>NAME</th>\n",
       "      <th>POP</th>\n",
       "      <th>Area</th>\n",
       "      <th>S_Yield_Ha</th>\n",
       "      <th>M_Yield_Ha</th>\n",
       "      <th>Crop_Area_Ha</th>\n",
       "      <th>S_Area_Ha</th>\n",
       "      <th>M_Area_Ha</th>\n",
       "      <th>S_Prod_Tot</th>\n",
       "      <th>M_Prod_Tot</th>\n",
       "    </tr>\n",
       "    <tr>\n",
       "      <th>OBJECTID</th>\n",
       "      <th></th>\n",
       "      <th></th>\n",
       "      <th></th>\n",
       "      <th></th>\n",
       "      <th></th>\n",
       "      <th></th>\n",
       "      <th></th>\n",
       "      <th></th>\n",
       "      <th></th>\n",
       "      <th></th>\n",
       "    </tr>\n",
       "  </thead>\n",
       "  <tbody>\n",
       "    <tr>\n",
       "      <th>92</th>\n",
       "      <td>ABIM</td>\n",
       "      <td>90385</td>\n",
       "      <td>2771977106</td>\n",
       "      <td>449</td>\n",
       "      <td>1040</td>\n",
       "      <td>5470.068394</td>\n",
       "      <td>3277.295971</td>\n",
       "      <td>1848.621855</td>\n",
       "      <td>1471506</td>\n",
       "      <td>1922567</td>\n",
       "    </tr>\n",
       "    <tr>\n",
       "      <th>96</th>\n",
       "      <td>AMUDAT</td>\n",
       "      <td>101790</td>\n",
       "      <td>1643582836</td>\n",
       "      <td>205</td>\n",
       "      <td>1297</td>\n",
       "      <td>5765.443719</td>\n",
       "      <td>2973.423860</td>\n",
       "      <td>2733.661014</td>\n",
       "      <td>609552</td>\n",
       "      <td>3545558</td>\n",
       "    </tr>\n",
       "    <tr>\n",
       "      <th>20</th>\n",
       "      <td>KAABONG</td>\n",
       "      <td>627057</td>\n",
       "      <td>7373606003</td>\n",
       "      <td>279</td>\n",
       "      <td>945</td>\n",
       "      <td>28121.672530</td>\n",
       "      <td>20544.194960</td>\n",
       "      <td>7394.416334</td>\n",
       "      <td>5731830</td>\n",
       "      <td>6987723</td>\n",
       "    </tr>\n",
       "    <tr>\n",
       "      <th>85</th>\n",
       "      <td>KOTIDO</td>\n",
       "      <td>243157</td>\n",
       "      <td>3641539808</td>\n",
       "      <td>331</td>\n",
       "      <td>1148</td>\n",
       "      <td>53032.649450</td>\n",
       "      <td>50247.443900</td>\n",
       "      <td>1751.372284</td>\n",
       "      <td>16631904</td>\n",
       "      <td>2010575</td>\n",
       "    </tr>\n",
       "    <tr>\n",
       "      <th>5</th>\n",
       "      <td>MOROTO</td>\n",
       "      <td>127811</td>\n",
       "      <td>3570160948</td>\n",
       "      <td>128</td>\n",
       "      <td>355</td>\n",
       "      <td>5954.814048</td>\n",
       "      <td>4741.748776</td>\n",
       "      <td>1190.050606</td>\n",
       "      <td>606944</td>\n",
       "      <td>422468</td>\n",
       "    </tr>\n",
       "    <tr>\n",
       "      <th>54</th>\n",
       "      <td>NAKAPIRIPIRIT</td>\n",
       "      <td>146780</td>\n",
       "      <td>4216323900</td>\n",
       "      <td>356</td>\n",
       "      <td>1264</td>\n",
       "      <td>26372.698490</td>\n",
       "      <td>19237.333210</td>\n",
       "      <td>6425.788414</td>\n",
       "      <td>6848491</td>\n",
       "      <td>8122197</td>\n",
       "    </tr>\n",
       "    <tr>\n",
       "      <th>80</th>\n",
       "      <td>NAPAK</td>\n",
       "      <td>167625</td>\n",
       "      <td>4508782023</td>\n",
       "      <td>137</td>\n",
       "      <td>854</td>\n",
       "      <td>22944.296020</td>\n",
       "      <td>16142.015880</td>\n",
       "      <td>6543.719066</td>\n",
       "      <td>2211456</td>\n",
       "      <td>5588336</td>\n",
       "    </tr>\n",
       "  </tbody>\n",
       "</table>\n",
       "</div>"
      ],
      "text/plain": [
       "                   NAME     POP        Area  S_Yield_Ha  M_Yield_Ha  \\\n",
       "OBJECTID                                                              \n",
       "92                 ABIM   90385  2771977106         449        1040   \n",
       "96               AMUDAT  101790  1643582836         205        1297   \n",
       "20              KAABONG  627057  7373606003         279         945   \n",
       "85               KOTIDO  243157  3641539808         331        1148   \n",
       "5                MOROTO  127811  3570160948         128         355   \n",
       "54        NAKAPIRIPIRIT  146780  4216323900         356        1264   \n",
       "80                NAPAK  167625  4508782023         137         854   \n",
       "\n",
       "          Crop_Area_Ha     S_Area_Ha    M_Area_Ha  S_Prod_Tot  M_Prod_Tot  \n",
       "OBJECTID                                                                   \n",
       "92         5470.068394   3277.295971  1848.621855     1471506     1922567  \n",
       "96         5765.443719   2973.423860  2733.661014      609552     3545558  \n",
       "20        28121.672530  20544.194960  7394.416334     5731830     6987723  \n",
       "85        53032.649450  50247.443900  1751.372284    16631904     2010575  \n",
       "5          5954.814048   4741.748776  1190.050606      606944      422468  \n",
       "54        26372.698490  19237.333210  6425.788414     6848491     8122197  \n",
       "80        22944.296020  16142.015880  6543.719066     2211456     5588336  "
      ]
     },
     "execution_count": 37,
     "metadata": {},
     "output_type": "execute_result"
    }
   ],
   "source": [
    "# Preview the DataFrame\n",
    "df"
   ]
  },
  {
   "cell_type": "code",
   "execution_count": 38,
   "metadata": {},
   "outputs": [
    {
     "data": {
      "text/plain": [
       "NAME            0\n",
       "POP             0\n",
       "Area            0\n",
       "S_Yield_Ha      0\n",
       "M_Yield_Ha      0\n",
       "Crop_Area_Ha    0\n",
       "S_Area_Ha       0\n",
       "M_Area_Ha       0\n",
       "S_Prod_Tot      0\n",
       "M_Prod_Tot      0\n",
       "dtype: int64"
      ]
     },
     "execution_count": 38,
     "metadata": {},
     "output_type": "execute_result"
    }
   ],
   "source": [
    "# Let's check for any missing values in the data\n",
    "df.isna().sum()"
   ]
  },
  {
   "cell_type": "markdown",
   "metadata": {},
   "source": [
    "From the above code it is evident that there are no missing values in the dataframe. Next let's check for any duplicated values in the dataframe using `.duplicated()` method:"
   ]
  },
  {
   "cell_type": "code",
   "execution_count": 39,
   "metadata": {},
   "outputs": [
    {
     "data": {
      "text/plain": [
       "0"
      ]
     },
     "execution_count": 39,
     "metadata": {},
     "output_type": "execute_result"
    }
   ],
   "source": [
    "# Let's check for any duplicated values in the dataframe\n",
    "df.duplicated().sum()"
   ]
  },
  {
   "cell_type": "markdown",
   "metadata": {},
   "source": [
    "The dataframe then needs to be converted to an excel file for easier importing into Tableau for visualization. This can be done using `.to_excel()` method:"
   ]
  },
  {
   "cell_type": "code",
   "execution_count": 43,
   "metadata": {},
   "outputs": [],
   "source": [
    "df.to_excel('DATA/TABLES/Karamoja District.xlsx', index = False)"
   ]
  },
  {
   "cell_type": "markdown",
   "metadata": {},
   "source": [
    "There are no duplicated values in the dataframe. Let's now move on to the next dataset."
   ]
  },
  {
   "cell_type": "code",
   "execution_count": 21,
   "metadata": {},
   "outputs": [],
   "source": [
    "df1 = pd.read_csv('DATA/TABLES/Uganda_Karamoja_Subcounty_Crop_Yield_Population.csv', index_col = 0)"
   ]
  },
  {
   "cell_type": "code",
   "execution_count": 22,
   "metadata": {},
   "outputs": [
    {
     "data": {
      "text/plain": [
       "(52, 12)"
      ]
     },
     "execution_count": 22,
     "metadata": {},
     "output_type": "execute_result"
    }
   ],
   "source": [
    "# Let's view the sape of the dataframe\n",
    "df1.shape"
   ]
  },
  {
   "cell_type": "code",
   "execution_count": 23,
   "metadata": {},
   "outputs": [
    {
     "data": {
      "text/html": [
       "<div>\n",
       "<style scoped>\n",
       "    .dataframe tbody tr th:only-of-type {\n",
       "        vertical-align: middle;\n",
       "    }\n",
       "\n",
       "    .dataframe tbody tr th {\n",
       "        vertical-align: top;\n",
       "    }\n",
       "\n",
       "    .dataframe thead th {\n",
       "        text-align: right;\n",
       "    }\n",
       "</style>\n",
       "<table border=\"1\" class=\"dataframe\">\n",
       "  <thead>\n",
       "    <tr style=\"text-align: right;\">\n",
       "      <th></th>\n",
       "      <th>NAME</th>\n",
       "      <th>POP</th>\n",
       "      <th>Area</th>\n",
       "      <th>S_Yield_Ha</th>\n",
       "      <th>M_Yield_Ha</th>\n",
       "      <th>Crop_Area_Ha</th>\n",
       "      <th>S_Area_Ha</th>\n",
       "      <th>M_Area_Ha</th>\n",
       "      <th>S_Prod_Tot</th>\n",
       "      <th>M_Prod_Tot</th>\n",
       "    </tr>\n",
       "    <tr>\n",
       "      <th>OBJECTID</th>\n",
       "      <th></th>\n",
       "      <th></th>\n",
       "      <th></th>\n",
       "      <th></th>\n",
       "      <th></th>\n",
       "      <th></th>\n",
       "      <th></th>\n",
       "      <th></th>\n",
       "      <th></th>\n",
       "      <th></th>\n",
       "    </tr>\n",
       "  </thead>\n",
       "  <tbody>\n",
       "    <tr>\n",
       "      <th>92</th>\n",
       "      <td>ABIM</td>\n",
       "      <td>90385</td>\n",
       "      <td>2771977106</td>\n",
       "      <td>449</td>\n",
       "      <td>1040</td>\n",
       "      <td>5470.068394</td>\n",
       "      <td>3277.295971</td>\n",
       "      <td>1848.621855</td>\n",
       "      <td>1471506</td>\n",
       "      <td>1922567</td>\n",
       "    </tr>\n",
       "    <tr>\n",
       "      <th>96</th>\n",
       "      <td>AMUDAT</td>\n",
       "      <td>101790</td>\n",
       "      <td>1643582836</td>\n",
       "      <td>205</td>\n",
       "      <td>1297</td>\n",
       "      <td>5765.443719</td>\n",
       "      <td>2973.423860</td>\n",
       "      <td>2733.661014</td>\n",
       "      <td>609552</td>\n",
       "      <td>3545558</td>\n",
       "    </tr>\n",
       "    <tr>\n",
       "      <th>20</th>\n",
       "      <td>KAABONG</td>\n",
       "      <td>627057</td>\n",
       "      <td>7373606003</td>\n",
       "      <td>279</td>\n",
       "      <td>945</td>\n",
       "      <td>28121.672530</td>\n",
       "      <td>20544.194960</td>\n",
       "      <td>7394.416334</td>\n",
       "      <td>5731830</td>\n",
       "      <td>6987723</td>\n",
       "    </tr>\n",
       "    <tr>\n",
       "      <th>85</th>\n",
       "      <td>KOTIDO</td>\n",
       "      <td>243157</td>\n",
       "      <td>3641539808</td>\n",
       "      <td>331</td>\n",
       "      <td>1148</td>\n",
       "      <td>53032.649450</td>\n",
       "      <td>50247.443900</td>\n",
       "      <td>1751.372284</td>\n",
       "      <td>16631904</td>\n",
       "      <td>2010575</td>\n",
       "    </tr>\n",
       "    <tr>\n",
       "      <th>5</th>\n",
       "      <td>MOROTO</td>\n",
       "      <td>127811</td>\n",
       "      <td>3570160948</td>\n",
       "      <td>128</td>\n",
       "      <td>355</td>\n",
       "      <td>5954.814048</td>\n",
       "      <td>4741.748776</td>\n",
       "      <td>1190.050606</td>\n",
       "      <td>606944</td>\n",
       "      <td>422468</td>\n",
       "    </tr>\n",
       "  </tbody>\n",
       "</table>\n",
       "</div>"
      ],
      "text/plain": [
       "             NAME     POP        Area  S_Yield_Ha  M_Yield_Ha  Crop_Area_Ha  \\\n",
       "OBJECTID                                                                      \n",
       "92           ABIM   90385  2771977106         449        1040   5470.068394   \n",
       "96         AMUDAT  101790  1643582836         205        1297   5765.443719   \n",
       "20        KAABONG  627057  7373606003         279         945  28121.672530   \n",
       "85         KOTIDO  243157  3641539808         331        1148  53032.649450   \n",
       "5          MOROTO  127811  3570160948         128         355   5954.814048   \n",
       "\n",
       "             S_Area_Ha    M_Area_Ha  S_Prod_Tot  M_Prod_Tot  \n",
       "OBJECTID                                                     \n",
       "92         3277.295971  1848.621855     1471506     1922567  \n",
       "96         2973.423860  2733.661014      609552     3545558  \n",
       "20        20544.194960  7394.416334     5731830     6987723  \n",
       "85        50247.443900  1751.372284    16631904     2010575  \n",
       "5          4741.748776  1190.050606      606944      422468  "
      ]
     },
     "execution_count": 23,
     "metadata": {},
     "output_type": "execute_result"
    }
   ],
   "source": [
    "# Let's preview the first five rows of the dataframe to get an idea of the dataframe\n",
    "df.head()"
   ]
  },
  {
   "cell_type": "markdown",
   "metadata": {},
   "source": [
    "Next let's check for any missing values in the dataframe:"
   ]
  },
  {
   "cell_type": "code",
   "execution_count": 24,
   "metadata": {},
   "outputs": [
    {
     "data": {
      "text/plain": [
       "SUBCOUNTY_NAME    0\n",
       "DISTRICT_NAME     0\n",
       "POP               0\n",
       "Area              0\n",
       "Karamoja          0\n",
       "S_Yield_Ha        0\n",
       "M_Yield_Ha        0\n",
       "Crop_Area_Ha      0\n",
       "S_Area_Ha         0\n",
       "M_Area_Ha         0\n",
       "S_Prod_Tot        0\n",
       "M_Prod_Tot        0\n",
       "dtype: int64"
      ]
     },
     "execution_count": 24,
     "metadata": {},
     "output_type": "execute_result"
    }
   ],
   "source": [
    "df1.isna().sum()"
   ]
  },
  {
   "cell_type": "markdown",
   "metadata": {},
   "source": [
    "None of the columns have any missing values. Next, let's check for any duplicated values in the dataframe:"
   ]
  },
  {
   "cell_type": "code",
   "execution_count": 26,
   "metadata": {},
   "outputs": [
    {
     "data": {
      "text/plain": [
       "0"
      ]
     },
     "execution_count": 26,
     "metadata": {},
     "output_type": "execute_result"
    }
   ],
   "source": [
    "df1.duplicated().sum()"
   ]
  },
  {
   "cell_type": "markdown",
   "metadata": {},
   "source": [
    "From the code above it is evident that there are no duplicated values in the dataframe. Next let's convert the dataframe into an excel file:"
   ]
  },
  {
   "cell_type": "code",
   "execution_count": 44,
   "metadata": {},
   "outputs": [],
   "source": [
    "df1.to_excel('DATA/TABLES/Karamoja Subcounty.xlsx', index = False)"
   ]
  },
  {
   "cell_type": "code",
   "execution_count": 64,
   "metadata": {},
   "outputs": [
    {
     "data": {
      "text/plain": [
       "<Figure size 1440x576 with 0 Axes>"
      ]
     },
     "metadata": {},
     "output_type": "display_data"
    },
    {
     "data": {
      "image/png": "[encoded data removed]",
      "text/plain": [
       "<Figure size 432x288 with 1 Axes>"
      ]
     },
     "metadata": {
      "needs_background": "light"
     },
     "output_type": "display_data"
    }
   ],
   "source": [
    "plt.figure(figsize=(20,8))\n",
    "df.plot('NAME', 'S_Yield_Ha', kind = 'bar');"
   ]
  },
  {
   "cell_type": "code",
   "execution_count": 65,
   "metadata": {},
   "outputs": [
    {
     "data": {
      "text/plain": [
       "<AxesSubplot:xlabel='NAME'>"
      ]
     },
     "execution_count": 65,
     "metadata": {},
     "output_type": "execute_result"
    },
    {
     "data": {
      "text/plain": [
       "<Figure size 1440x576 with 0 Axes>"
      ]
     },
     "metadata": {},
     "output_type": "display_data"
    },
    {
     "data": {
      "image/png": "[encoded data removed]",
      "text/plain": [
       "<Figure size 432x288 with 1 Axes>"
      ]
     },
     "metadata": {
      "needs_background": "light"
     },
     "output_type": "display_data"
    }
   ],
   "source": [
    "plt.figure(figsize=(20,8))\n",
    "df.plot('NAME', 'M_Yield_Ha', kind = 'bar')"
   ]
  }
 ],
 "metadata": {
  "kernelspec": {
   "display_name": "Python 3",
   "language": "python",
   "name": "python3"
  },
  "language_info": {
   "codemirror_mode": {
    "name": "ipython",
    "version": 3
   },
   "file_extension": ".py",
   "mimetype": "text/x-python",
   "name": "python",
   "nbconvert_exporter": "python",
   "pygments_lexer": "ipython3",
   "version": "3.8.5"
  }
 },
 "nbformat": 4,
 "nbformat_minor": 5
}
